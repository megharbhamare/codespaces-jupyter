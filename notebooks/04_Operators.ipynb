{
 "cells": [
  {
   "cell_type": "code",
   "execution_count": null,
   "id": "bdca16a8",
   "metadata": {},
   "outputs": [
    {
     "name": "stdout",
     "output_type": "stream",
     "text": [
      "15\n",
      "5\n",
      "50\n",
      "2.0\n",
      "2\n",
      "0\n",
      "100000\n"
     ]
    }
   ],
   "source": [
    "#Arithmetic operators \n",
    "\n",
    "a=10\n",
    "b=5\n",
    "\n",
    "add_res=a+b #addition\n",
    "print(add_res)\n",
    "sub_res=a-b #substraction\n",
    "print(sub_res)\n",
    "mul_res=a*b #multiplicaion\n",
    "print(mul_res)\n",
    "div_res=a/b # div results\n",
    "print(div_res) \n",
    "floor_div_res = a//b # floor div --> remove the part after decimal\n",
    "print(floor_div_res)\n",
    "mod_res= a%b # modulus operator\n",
    "print(mod_res)\n",
    "exp_res = a**b # exponential results \n",
    "print(exp_res)\n"
   ]
  },
  {
   "cell_type": "code",
   "execution_count": 12,
   "id": "e6cbf47e",
   "metadata": {},
   "outputs": [
    {
     "name": "stdout",
     "output_type": "stream",
     "text": [
      "3.142857142857143\n",
      "3\n"
     ]
    }
   ],
   "source": [
    "print(22/7) #division result \n",
    "print(22//7) #floor div result "
   ]
  },
  {
   "cell_type": "markdown",
   "id": "70486aee",
   "metadata": {},
   "source": [
    "## Comparison operators"
   ]
  },
  {
   "cell_type": "code",
   "execution_count": 19,
   "id": "f0200d2f",
   "metadata": {},
   "outputs": [
    {
     "name": "stdout",
     "output_type": "stream",
     "text": [
      "False\n"
     ]
    }
   ],
   "source": [
    "a=9 \n",
    "b=8\n",
    "result = a==b\n",
    "print(result)"
   ]
  },
  {
   "cell_type": "code",
   "execution_count": 20,
   "id": "a48cd514",
   "metadata": {},
   "outputs": [
    {
     "data": {
      "text/plain": [
       "False"
      ]
     },
     "execution_count": 20,
     "metadata": {},
     "output_type": "execute_result"
    }
   ],
   "source": [
    "#case sensitive \n",
    "str1='Megha'\n",
    "str2='megha'\n",
    "\n",
    "str1==str2"
   ]
  },
  {
   "cell_type": "code",
   "execution_count": 22,
   "id": "9dbec93c",
   "metadata": {},
   "outputs": [
    {
     "data": {
      "text/plain": [
       "False"
      ]
     },
     "execution_count": 22,
     "metadata": {},
     "output_type": "execute_result"
    }
   ],
   "source": [
    "# Not equal operator \n",
    "str1='Megha'\n",
    "str2='Megha'\n",
    "str1!=str2"
   ]
  },
  {
   "cell_type": "code",
   "execution_count": 24,
   "id": "4f4a074f",
   "metadata": {},
   "outputs": [
    {
     "name": "stdout",
     "output_type": "stream",
     "text": [
      "True\n",
      "False\n"
     ]
    }
   ],
   "source": [
    "#Less than greater than\n",
    "num1 = 10\n",
    "num2  = 20\n",
    "\n",
    "print(num1<num2)\n",
    "print(num1>num2)"
   ]
  },
  {
   "cell_type": "code",
   "execution_count": 25,
   "id": "e6012076",
   "metadata": {},
   "outputs": [
    {
     "name": "stdout",
     "output_type": "stream",
     "text": [
      "True\n",
      "True\n"
     ]
    }
   ],
   "source": [
    "num1 = 10\n",
    "num2  = 10\n",
    "\n",
    "print(num1<=num2)\n",
    "print(num1>=num2)"
   ]
  },
  {
   "cell_type": "markdown",
   "id": "258dd555",
   "metadata": {},
   "source": [
    "## Logical operators"
   ]
  },
  {
   "cell_type": "code",
   "execution_count": 1,
   "id": "b964f9b2",
   "metadata": {},
   "outputs": [
    {
     "name": "stdout",
     "output_type": "stream",
     "text": [
      "True\n"
     ]
    }
   ],
   "source": [
    "## AND, NOT, OR\n",
    "\n",
    "X=True \n",
    "Y=True \n",
    "\n",
    "result = X and Y\n",
    "print(result)"
   ]
  },
  {
   "cell_type": "code",
   "execution_count": 3,
   "id": "fff18266",
   "metadata": {},
   "outputs": [
    {
     "name": "stdout",
     "output_type": "stream",
     "text": [
      "True\n"
     ]
    }
   ],
   "source": [
    "\n",
    "X=True \n",
    "Y=False \n",
    "result =X or Y\n",
    "print(result)"
   ]
  },
  {
   "cell_type": "code",
   "execution_count": null,
   "id": "dda0352c",
   "metadata": {},
   "outputs": [
    {
     "name": "stdout",
     "output_type": "stream",
     "text": [
      "True\n"
     ]
    }
   ],
   "source": [
    "result =X or (not Y)\n",
    "print(result)"
   ]
  },
  {
   "cell_type": "code",
   "execution_count": 1,
   "id": "c0e999ba",
   "metadata": {},
   "outputs": [],
   "source": [
    "#Operators precedence\n",
    "# 1. Parentheses ()\n",
    "# 2. Exponentiation **\n",
    "# 3. Multiplication, Division, Floor Division, Modulus *, /, //, %\n",
    "# 4. Addition, Subtraction +, -\n",
    "# 5. Comparison operators ==, !=, <, >, <=, >=\n",
    "# 6. Logical operators and, or, not\n"
   ]
  }
 ],
 "metadata": {
  "kernelspec": {
   "display_name": "Python 3 (ipykernel)",
   "language": "python",
   "name": "python3"
  },
  "language_info": {
   "codemirror_mode": {
    "name": "ipython",
    "version": 3
   },
   "file_extension": ".py",
   "mimetype": "text/x-python",
   "name": "python",
   "nbconvert_exporter": "python",
   "pygments_lexer": "ipython3",
   "version": "3.12.1"
  }
 },
 "nbformat": 4,
 "nbformat_minor": 5
}
