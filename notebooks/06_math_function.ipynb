{
 "cells": [
  {
   "cell_type": "code",
   "execution_count": null,
   "id": "ff057acb",
   "metadata": {},
   "outputs": [
    {
     "name": "stdout",
     "output_type": "stream",
     "text": [
      "8\n"
     ]
    }
   ],
   "source": [
    "print(2**3)"
   ]
  },
  {
   "cell_type": "code",
   "execution_count": 2,
   "id": "c766026c",
   "metadata": {},
   "outputs": [
    {
     "name": "stdout",
     "output_type": "stream",
     "text": [
      "4.0\n",
      "3.141592653589793\n",
      "2.718281828459045\n",
      "120\n",
      "6\n",
      "1.0\n",
      "1.0\n",
      "0.9999999999999999\n",
      "2.0\n",
      "3.0\n",
      "2.718281828459045\n",
      "180.0\n",
      "3.141592653589793\n",
      "5\n",
      "4\n",
      "True\n",
      "4\n",
      "5.0\n",
      "8.0\n",
      "5.0\n",
      "10\n"
     ]
    }
   ],
   "source": [
    "import math\n",
    "\n",
    "print(math.sqrt(16))\n",
    "print(math.pi)      \n",
    "print(math.e)\n",
    "print(math.factorial(5))\n",
    "print(math.gcd(48, 18))  # Greatest Common Divisor\n",
    "print(math.sin(math.pi / 2))  # Sine of 90 degrees\n",
    "print(math.cos(0))  # Cosine of 0 degrees\n",
    "print(math.tan(math.pi / 4))  # Tangent of 45 degrees   \n",
    "print(math.log(100, 10))  # Logarithm base 10 of 100\n",
    "print(math.log(8, 2))  # Logarithm base 2 of 8\n",
    "print(math.exp(1))  # e raised to the power of 1\n",
    "print(math.degrees(math.pi))  # Convert radians to degrees\n",
    "print(math.radians(180))  # Convert degrees to radians\n",
    "print(math.ceil(4.2))  # Round up to the nearest integer\n",
    "print(math.floor(4.8))  # Round down to the nearest integer\n",
    "print(math.isclose(0.1 + 0.2, 0.3))  # Check if two floats are close to each other\n",
    "print(math.trunc(4.9))  # Truncate to the integer part\n",
    "print(math.fabs(-5))  # Absolute value of -5\n",
    "print(math.pow(2, 3))  # 2 raised to the power of 3\n",
    "print(math.hypot(3, 4))  # Hypotenuse of a right triangle with sides 3 and 4\n",
    "print(math.comb(5, 2))  # Combinations of 5 items taken 2 at a time"
   ]
  },
  {
   "cell_type": "code",
   "execution_count": null,
   "id": "cecc0101",
   "metadata": {},
   "outputs": [],
   "source": []
  }
 ],
 "metadata": {
  "kernelspec": {
   "display_name": "Python 3 (ipykernel)",
   "language": "python",
   "name": "python3"
  },
  "language_info": {
   "codemirror_mode": {
    "name": "ipython",
    "version": 3
   },
   "file_extension": ".py",
   "mimetype": "text/x-python",
   "name": "python",
   "nbconvert_exporter": "python",
   "pygments_lexer": "ipython3",
   "version": "3.12.1"
  }
 },
 "nbformat": 4,
 "nbformat_minor": 5
}
