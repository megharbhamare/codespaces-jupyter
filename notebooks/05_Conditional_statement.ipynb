{
 "cells": [
  {
   "cell_type": "markdown",
   "id": "da4956c1",
   "metadata": {},
   "source": [
    "## Conditional Statment"
   ]
  },
  {
   "cell_type": "code",
   "execution_count": 4,
   "id": "6ace30c4",
   "metadata": {},
   "outputs": [],
   "source": [
    "age = 4"
   ]
  },
  {
   "cell_type": "code",
   "execution_count": 5,
   "id": "d83c4112",
   "metadata": {},
   "outputs": [
    {
     "name": "stdout",
     "output_type": "stream",
     "text": [
      "You area minor\n"
     ]
    }
   ],
   "source": [
    "if (age>=18):\n",
    "    print(\"You are allowed to vote\")\n",
    "else:\n",
    "    print(\"You area minor\")"
   ]
  },
  {
   "cell_type": "code",
   "execution_count": 7,
   "id": "d239cf34",
   "metadata": {},
   "outputs": [
    {
     "name": "stdout",
     "output_type": "stream",
     "text": [
      "You are a teenager\n"
     ]
    }
   ],
   "source": [
    "## else-if\n",
    "age =17\n",
    "if age <13:\n",
    "    print(\"You are a child\")\n",
    "elif (age <18):\n",
    "    print(\"You are a teenager\")\n",
    "else:\n",
    "    print(\"You are an adult\") "
   ]
  },
  {
   "cell_type": "code",
   "execution_count": 9,
   "id": "d5e093e8",
   "metadata": {},
   "outputs": [
    {
     "name": "stdout",
     "output_type": "stream",
     "text": [
      "8 is positive\n",
      "8 is even\n"
     ]
    }
   ],
   "source": [
    "# Check if number is even, odd or negative \n",
    "\n",
    "num = int(input(\"Enter the number:\"))\n",
    "if num>0:\n",
    "    print(f\"{num} is positive\")\n",
    "    if(num%2==0):\n",
    "        print(f\"{num} is even\")\n",
    "    else:\n",
    "        print(f\"{num} is odd\")\n",
    "else:\n",
    "    print(f\"{num} is zero or negative\")"
   ]
  },
  {
   "cell_type": "code",
   "execution_count": null,
   "id": "ce565455",
   "metadata": {},
   "outputs": [],
   "source": []
  },
  {
   "cell_type": "code",
   "execution_count": 15,
   "id": "61168966",
   "metadata": {},
   "outputs": [
    {
     "name": "stdout",
     "output_type": "stream",
     "text": [
      "100  not a yeap year\n"
     ]
    }
   ],
   "source": [
    "# Leap year \n",
    "\n",
    "yr = int(input(\"Enter the year\"))\n",
    "\n",
    "if yr%4==0:\n",
    "    if yr%100==0:\n",
    "        if yr%400==0:\n",
    "            print(yr, \" is a leap year\")\n",
    "        else:\n",
    "            print(yr, \" not a yeap year\")\n",
    "    else:\n",
    "        print(yr, \" is a leap year\")\n",
    "else: \n",
    "    print(yr,\" not a leap year\") "
   ]
  },
  {
   "cell_type": "code",
   "execution_count": null,
   "id": "ec4e96e6",
   "metadata": {},
   "outputs": [],
   "source": []
  }
 ],
 "metadata": {
  "kernelspec": {
   "display_name": "Python 3 (ipykernel)",
   "language": "python",
   "name": "python3"
  },
  "language_info": {
   "codemirror_mode": {
    "name": "ipython",
    "version": 3
   },
   "file_extension": ".py",
   "mimetype": "text/x-python",
   "name": "python",
   "nbconvert_exporter": "python",
   "pygments_lexer": "ipython3",
   "version": "3.12.1"
  }
 },
 "nbformat": 4,
 "nbformat_minor": 5
}
